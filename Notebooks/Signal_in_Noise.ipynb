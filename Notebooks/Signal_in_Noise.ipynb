{
 "cells": [
  {
   "cell_type": "raw",
   "metadata": {},
   "source": [
    "%pylab inline\n",
    "\n",
    "import numpy as np\n",
    "import pycbc\n",
    "from pycbc import types, fft, waveform, noise, psd, filter\n",
    "from pycbc.types.frequencyseries import FrequencySeries\n",
    "import pylab\n",
    "\n",
    "#------------------------------------------------------------------------------------\n",
    "\n",
    "def eta(m1,m2):\n",
    "\treturn m1*m2 / (m1+m2)**2.0\n",
    "\n",
    "def chirp_mass(m1,m2):\n",
    "\treturn (m1+m2) * eta(m1,m2)**(3.0/5.0)\n",
    "\n",
    "def chi_s(chi1,chi2):\n",
    "\treturn (chi1+chi2) / 2.0\n",
    "\n",
    "def chi_a(chi1,chi2):\n",
    "\treturn (chi1-chi2) / 2.0\n",
    "\n",
    "def delta(m1,m2):\n",
    "\treturn (m1-m2) / (m1+m2)\n",
    "\n",
    "def dmdt(m1,m2):\n",
    "\tl = 1.4\n",
    "\tdm1dt = -(2.8e-07) * (1.0/m1)**2.0 * (l)**2.0\n",
    "\tdm2dt = -(2.8e-07) * (1.0/m2)**2.0 * (l)**2.0\n",
    "\treturn dm1dt + dm2dt\n",
    "\n",
    "def D_alphaMDR(alpha_MDR, H_0, Omega_M, Omega_Lambda, z):\n",
    "\treturn z * (1.0 - z * (3.0*Omega_M/(Omega_M+Omega_Lambda) + 2.0*alpha_MDR) / 4.0 ) / (H_0 * np.sqrt(Omega_M + Omega_Lambda))\n",
    "\n",
    "# Scalar-Tensor to post-Einsteinian parameters\n",
    "def ST_to_ppE(m1, m2, chi1, chi2):\n",
    "\n",
    "\tphidot = 1.0\n",
    "\ts1 = (1.0+np.sqrt(1.0-(chi1**2.0)))/2.0\n",
    "\ts2 = (1.0+np.sqrt(1.0-(chi2**2.0)))/2.0\n",
    "\tbeta_ppE = -(5.0/1792.0) * phidot**2.0 * eta(m1,m2)**(2.0/5.0) * (m1*s1 - m2*s2)**2.0\n",
    "\n",
    "\tb = -7.0\n",
    "\treturn b, beta_ppE\n",
    "\n",
    "\n",
    "# Gauss-Bonnet to post-Einsteinian parameters\n",
    "def GB_to_ppE(m1, m2, chi1, chi2, alpha_GB):\n",
    "\n",
    "\tcoupling = 16.0*np.pi*alpha_GB**2.0 / ((m1+m2)**4.0)\n",
    "\n",
    "\tBH1_scalar_charge = 4.0*alpha_GB*(np.sqrt(1.0-chi1**2.0)-1.0+chi1**2.0) / (m1**2.0 * chi1**2.0)\n",
    "\tBH2_scalar_charge = 4.0*alpha_GB*(np.sqrt(1.0-chi2**2.0)-1.0+chi2**2.0) / (m2**2.0 * chi2**2.0)\n",
    "\n",
    "\ts1 = BH1_scalar_charge*m1**2.0 / (2.0*alpha_GB)\n",
    "\ts2 = BH2_scalar_charge*m2**2.0 / (2.0*alpha_GB)\n",
    "\tbeta_ppE = -(5.0/7168.0)*coupling*(m1**2.0 * s2 - m2**2.0 * s1)**2.0 / ((m1+m2)**4.0 * eta(m1,m2)**(18.0/5.0))\n",
    "\n",
    "\tb = -7.0\n",
    "\treturn b, beta_ppE\n",
    "\n",
    "# dynamical Chern-Simons to post-Einsteinian parameters\n",
    "def dCS_to_ppE(m1, m2, chi1, chi2, alpha_CS):\n",
    "\n",
    "\tcoupling = 16.0*np.pi*alpha_CS**2.0 / ((m1+m2)**4.0)\n",
    "\n",
    "\tbeta_ppE = (1549225.0/11812864.0) * (coupling / eta(m1,m2)**(14.0/5.0)) * ((1.0 - (231808.0/61969.0)*eta(m1,m2))*chi_s(chi1,chi2)**2.0 + (1.0 - (16068.0/61969.0)*eta(m1,m2))*chi_a(chi1,chi2)**2.0 - 2.0*delta(m1,m2)*chi_s(chi1,chi2)*chi_a(chi1,chi2))\n",
    "\n",
    "\tb = -1.0\n",
    "\treturn b, beta_ppE\n",
    "\n",
    "# Einstein-Aether to post-Einsteinian parameters\n",
    "def EA_to_ppE(c_1, c_2, c_3, c_4):\n",
    "\n",
    "\tc_14 = c_1 + c_4\n",
    "\tc_123 = c_1 + c_2 + c_3\n",
    "\tc_plus = c_1 + c_3\n",
    "\tc_minus = c_1 - c_3\n",
    "\n",
    "\tw_0 = np.sqrt((2.0 - c_14) * c_123 / ((2.0 + 3.0*c_2 + c_plus) * (1.0 - c_plus) * c_14))\n",
    "\tw_1 = np.sqrt((2.0*c_1 - c_plus*c_minus) / (2.0*(1.0 - c_plus)*c_14))\n",
    "\tw_2 = np.sqrt(1.0 / (1.0 - c_plus))\n",
    "\n",
    "\tbeta_ppE = -(3.0/128.0) * ( (1.0 - c_14/2.0) * (1.0/w_2 + 2.0 * c_14 * c_plus**2.0 / ((c_plus + c_minus - c_minus*c_plus)**2.0 * w_1) + 3.0*c_14 / (2.0 * w_0 * (2.0 - c_14))) - 1.0 )\n",
    "\n",
    "\tb = -5.0\n",
    "\treturn b, beta_ppE\n",
    "\n",
    "# Khronometric Gravity to post-Einsteinian\n",
    "def khronometric_to_ppE(alpha_KG, beta_KG, lambda_KG):\n",
    "\n",
    "\tw_0 = np.sqrt((alpha_KG - 2.0) * (beta_KG + lambda_KG) / (alpha_KG * (beta_KG - 1.0) * (2.0 + beta_KG + 3.0*lambda_KG)))\n",
    "\tw_2 = np.sqrt(1.0 / (1.0 - beta_KG))\n",
    "\n",
    "\tbeta_ppE = -(3.0/128.0) * ((1.0 - beta_KG) * (3.0*beta_KG / (2.0*w_0*w_2*(1.0-beta_KG))) - 1.0)\n",
    "\n",
    "\tb = -5.0\n",
    "\treturn b, beta_ppE\n",
    "\n",
    "# extra dimension\n",
    "def extra_dimension_to_ppE(m1, m2):\n",
    "\n",
    "\tbeta_ppE = (25.0/851968.0) * dmdt(m1,m2) * (3.0 - 26.0*eta(m1,m2) + 34.0*eta(m1,m2)**2.0) / (eta(m1,m2)**(2.0/5.0) * (1.0 - 2.0*eta(m1,m2)))\n",
    "\t\n",
    "\tb = -13.0\n",
    "\treturn b, beta_ppE\n",
    "\n",
    "# varying G\n",
    "def varying_G_to_ppE(m1, m2, dGdt):\n",
    "\n",
    "\tbeta_ppE = -(25.0/65536.0) * dGdt * chirp_mass(m1,m2)\n",
    "\n",
    "\tb = -13.0\n",
    "\treturn b, beta_ppE\n",
    "\n",
    "# modified dispersion relation\n",
    "def MDR_to_ppE(m1, m2, chi1, chi2, alpha_MDR, z):\n",
    "\t\n",
    "\tbeta_ppE = (np.pi**(2.0 - alpha_MDR) / (1.0 - alpha_MDR)) * (D_alphaMDR(alpha_MDR,z) / (lambda_A**(2.0 - alpha_MDR))) * (chirp_mass(m1,m2)**(1.0 - alpha_MDR) / ((1.0 + z)**(1.0 - alpha_MDR)))\n",
    "\t\n",
    "\tb = 3.0 * (alpha_MDR - 1.0)\n",
    "\treturn b, beta_ppE\n",
    "\t\n",
    "\n",
    "def ppE_to_h(m1,m2,b,beta,freq_sp,freq_sc,sp,sc):\n",
    "\tvf_sp = np.zeros((len(freq_sp)))\n",
    "\tvf_sc = np.zeros((len(freq_sc)))\n",
    "\tppE_factor_sp = np.zeros((len(freq_sp)),dtype=np.complex_)\n",
    "\tppE_factor_sc = np.zeros((len(freq_sc)),dtype=np.complex_)\n",
    "\thp = np.zeros((len(freq_sp)),dtype=np.complex_)\n",
    "\thc = np.zeros((len(freq_sc)),dtype=np.complex_)\n",
    "\n",
    "\tvf_sp = (np.pi*(m1+m2)*freq_sp)**(1.0/3.0)\n",
    "    vf_sc = (np.pi*(m1+m2)*freq_sc)**(1.0/3.0)\n",
    "\n",
    "\tppE_factor_sp[0] = 1.0\n",
    "\tppE_factor_sc[0] = 1.0\n",
    "        ppE_factor_sp[1:] = np.exp( (np.full(((len(freq_sp)-1)),beta)) * (np.array(vf_sp)[1:]**b) * (np.full(((len(freq_sp)-1)),1j,dtype=np.complex_)) )\n",
    "        ppE_factor_sc[1:] = np.exp( (np.full(((len(freq_sc)-1)),beta)) * (np.array(vf_sc)[1:]**b) * (np.full(((len(freq_sc)-1)),1j,dtype=np.complex_)) )\n",
    "\n",
    "\n",
    "\thp = sp * ppE_factor_sp\n",
    "\thc = sc * ppE_factor_sc\n",
    "\treturn hp, hc\n",
    "\n",
    "\n",
    "def IFFT_to_TD(m1,m2,b,beta,freq_sp,freq_sc,sp,sc,delta_t,delta_f):\n",
    "\thp, hc = ppE_to_h(m1,m2,b,beta,freq_sp,freq_sc,sp,sc)\n",
    "\ttp = np.fft.ifft(hp)\n",
    "\ttc = np.fft.ifft(hc)\n",
    "\treturn tp, tc\n",
    "\n",
    "def FFT_to_FD(tp,tc):\n",
    "\tfp = np.fft.fft(tp)\n",
    "\tfc = np.fft.fft(tc)\n",
    "\treturn fp, fc\n",
    "\n",
    "def Noise(flow,delta_f,delta_t,tlen):\n",
    "\tflen = int(1./delta_t/delta_f) / 2 + 1\n",
    "\tp_s_d = pycbc.psd.aLIGOZeroDetHighPower(flen, delta_f, flow)\n",
    "\tNt = int(tlen/delta_t)\n",
    "\treturn pycbc.noise.noise_from_psd(Nt, delta_t, p_s_d, seed=127)\n",
    "\n",
    "def Array_Match(tp,tc,noise):\n",
    "\tmid_index_A = int(np.ceil((len(noise)-1) / 2.0))\n",
    "\tmid_index_B = mid_index_A + len(tp)\n",
    "\ttp_long = np.zeros((len(noise)),dtype=np.complex_)\n",
    "\ttc_long = np.zeros((len(noise)),dtype=np.complex_)\n",
    "\n",
    "\ttp_long[mid_index_A:mid_index_B] = tp[:]\n",
    "\ttc_long[mid_index_A:mid_index_B] = tc[:]\n",
    "\treturn tp_long, tc_long\n",
    "\t\n",
    "\n",
    "def Matched_Filter(fp,fc,data_p,data_c,flen,delta_f,flow):\n",
    "\tp_s_d = psd.aLIGOZeroDetHighPower(flen, delta_f, flow)\n",
    "\tSNRp = filter.matched_filter(fp, data_p, psd=p_s_d, \n",
    "                                      low_frequency_cutoff=flow)\n",
    "\tSNRc = filter.matched_filter(fc, data_c, psd=p_s_d, \n",
    "                                      low_frequency_cutoff=flow)\n",
    "\treturn SNRp,SNRc\n",
    "\n",
    "#---------------------------------------------------------------------------------"
   ]
  },
  {
   "cell_type": "code",
   "execution_count": 126,
   "metadata": {},
   "outputs": [],
   "source": [
    "# Test Run\n",
    "\n",
    "m1 = 25.0\n",
    "m2 = 25.0\n",
    "chi1 = 0.5\n",
    "chi2 = 0.3\n",
    "alpha_GB = 1.0\n",
    "alpha_CS = 1.0\n",
    "\n",
    "\n",
    "flow = 20.0\n",
    "\n",
    "sample_rate = 4096\n",
    "delta_t = 1./sample_rate\n",
    "tlen = 128\n",
    "\n",
    "tsampleslen = sample_rate * tlen\n",
    "flen = tsampleslen / 2 + 1\n",
    "\n",
    "delta_f = 1.0/tlen"
   ]
  },
  {
   "cell_type": "code",
   "execution_count": 128,
   "metadata": {},
   "outputs": [],
   "source": [
    "#sp, sc = waveform.get_fd_waveform(approximant='IMRPhenomD', mass1=m1, mass2=m2,\n",
    "#                                  delta_f=delta_f, f_lower=flow, distance = 1.e-1)\n",
    "\n",
    "sp, sc = waveform.get_fd_waveform(approximant='IMRPhenomD', mass1=m1, mass2=m2,\n",
    "                                  spin1z = chi1, spin2z = chi2,\n",
    "                                  delta_f=delta_f, f_lower=flow, distance = 1.e1)\n",
    "\n",
    "#sp, sc = waveform.get_fd_waveform(approximant='IMRPhenomPv2', mass1=5, mass2=5,\n",
    "#                                  delta_f=1.0/4, f_lower=40)\n",
    "\n",
    "sp_array = np.array(sp.data)\n",
    "sc_array = np.array(sc.data)\n",
    "freq_sp = np.array(sp.sample_frequencies.data)\n",
    "freq_sc = np.array(sc.sample_frequencies.data)"
   ]
  },
  {
   "cell_type": "code",
   "execution_count": 129,
   "metadata": {},
   "outputs": [
    {
     "data": {
      "text/plain": [
       "(20, 8192.0)"
      ]
     },
     "execution_count": 129,
     "metadata": {},
     "output_type": "execute_result"
    },
    {
     "data": {
      "image/png": "[encoded data removed]",
      "text/plain": [
       "<matplotlib.figure.Figure at 0x7fe92e123f10>"
      ]
     },
     "metadata": {},
     "output_type": "display_data"
    }
   ],
   "source": [
    "loglog(freq_sp, abs(sp))\n",
    "xlim(20, 2. / delta_t)"
   ]
  },
  {
   "cell_type": "code",
   "execution_count": 108,
   "metadata": {},
   "outputs": [],
   "source": [
    "# Scalar-Tensor Theory\n",
    "#b, beta = ST_to_ppE(m1,m2,chi1,chi2)\n",
    "\n",
    "# Gauss-Bonnet Theory\n",
    "#b, beta = GB_to_ppE(m1,m2,chi1,chi2,alpha_GB)\n",
    "b = 0.0\n",
    "beta = 0.0\n",
    "# Chern-Simons Theory\n",
    "#b, beta = dCS_to_ppE(m1,m2,chi1,chi2,alpha_CS)\n",
    "tp, tc = IFFT_to_TD(m1, m2, b, beta,\n",
    "                    freq_sp, freq_sc,\n",
    "                    sp_array, sc_array,\n",
    "                    delta_t, delta_f)"
   ]
  },
  {
   "cell_type": "code",
   "execution_count": 130,
   "metadata": {},
   "outputs": [
    {
     "data": {
      "text/plain": [
       "(31.95, 32.02)"
      ]
     },
     "execution_count": 130,
     "metadata": {},
     "output_type": "execute_result"
    },
    {
     "data": {
      "image/png": "[encoded data removed]",
      "text/plain": [
       "<matplotlib.figure.Figure at 0x7fe92e3415d0>"
      ]
     },
     "metadata": {},
     "output_type": "display_data"
    }
   ],
   "source": [
    "plot(delta_t * np.arange(len(tp)), tp)\n",
    "xlim(31.95, 32.02)"
   ]
  },
  {
   "cell_type": "code",
   "execution_count": 131,
   "metadata": {},
   "outputs": [
    {
     "data": {
      "text/plain": [
       "(0.0, 0.02)"
      ]
     },
     "execution_count": 131,
     "metadata": {},
     "output_type": "execute_result"
    },
    {
     "data": {
      "image/png": "[encoded data removed]",
      "text/plain": [
       "<matplotlib.figure.Figure at 0x7fe93892a650>"
      ]
     },
     "metadata": {},
     "output_type": "display_data"
    }
   ],
   "source": [
    "plot(delta_t * np.arange(len(tp)), tp)\n",
    "xlim(0., 0.02)"
   ]
  },
  {
   "cell_type": "code",
   "execution_count": 132,
   "metadata": {},
   "outputs": [],
   "source": [
    "noise = np.array(Noise(flow,delta_f,delta_t,tlen))"
   ]
  },
  {
   "cell_type": "code",
   "execution_count": 133,
   "metadata": {},
   "outputs": [
    {
     "data": {
      "text/plain": [
       "[<matplotlib.lines.Line2D at 0x7fe947879110>]"
      ]
     },
     "execution_count": 133,
     "metadata": {},
     "output_type": "execute_result"
    },
    {
     "data": {
      "image/png": "[encoded data removed]",
      "text/plain": [
       "<matplotlib.figure.Figure at 0x7fe947862810>"
      ]
     },
     "metadata": {},
     "output_type": "display_data"
    }
   ],
   "source": [
    "plot(noise)"
   ]
  },
  {
   "cell_type": "code",
   "execution_count": 134,
   "metadata": {},
   "outputs": [],
   "source": [
    "tp_long, tc_long = Array_Match(tp,tc,noise)"
   ]
  },
  {
   "cell_type": "code",
   "execution_count": 135,
   "metadata": {},
   "outputs": [],
   "source": [
    "signal = noise + tp_long"
   ]
  },
  {
   "cell_type": "code",
   "execution_count": 97,
   "metadata": {},
   "outputs": [
    {
     "data": {
      "text/plain": [
       "[<matplotlib.lines.Line2D at 0x7fe924e2b9d0>]"
      ]
     },
     "execution_count": 97,
     "metadata": {},
     "output_type": "execute_result"
    },
    {
     "data": {
      "image/png": "[encoded data removed]",
      "text/plain": [
       "<matplotlib.figure.Figure at 0x7fe924ea51d0>"
      ]
     },
     "metadata": {},
     "output_type": "display_data"
    }
   ],
   "source": [
    "plot(tp_long)"
   ]
  },
  {
   "cell_type": "code",
   "execution_count": 98,
   "metadata": {},
   "outputs": [
    {
     "data": {
      "text/plain": [
       "[<matplotlib.lines.Line2D at 0x7fe924f63390>]"
      ]
     },
     "execution_count": 98,
     "metadata": {},
     "output_type": "execute_result"
    },
    {
     "data": {
      "image/png": "[encoded data removed]",
      "text/plain": [
       "<matplotlib.figure.Figure at 0x7fe924e76550>"
      ]
     },
     "metadata": {},
     "output_type": "display_data"
    }
   ],
   "source": [
    "plot(signal)"
   ]
  },
  {
   "cell_type": "code",
   "execution_count": 99,
   "metadata": {},
   "outputs": [
    {
     "name": "stdout",
     "output_type": "stream",
     "text": [
      "262145 524288 262145 524288\n"
     ]
    }
   ],
   "source": [
    "print len(template_Fseries), len(signal_Tseries), len(p_s_d), 2*(len(p_s_d) - 1)"
   ]
  },
  {
   "cell_type": "code",
   "execution_count": 100,
   "metadata": {},
   "outputs": [
    {
     "data": {
      "text/plain": [
       "dtype('float64')"
      ]
     },
     "execution_count": 100,
     "metadata": {},
     "output_type": "execute_result"
    }
   ],
   "source": [
    "noise.dtype"
   ]
  },
  {
   "cell_type": "code",
   "execution_count": 136,
   "metadata": {},
   "outputs": [],
   "source": [
    "signal_Tseries = types.TimeSeries(np.real(signal), delta_t=delta_t, dtype = noise.dtype)"
   ]
  },
  {
   "cell_type": "code",
   "execution_count": 137,
   "metadata": {},
   "outputs": [],
   "source": [
    "template_Fseries = types.FrequencySeries(np.zeros(len(noise)/2 + 1), delta_f=delta_f, dtype = np.complex128)\n",
    "template_Fseries[:len(sp)] = sp"
   ]
  },
  {
   "cell_type": "code",
   "execution_count": 138,
   "metadata": {},
   "outputs": [],
   "source": [
    "p_s_d = psd.aLIGOZeroDetHighPower(flen, delta_f, flow)"
   ]
  },
  {
   "cell_type": "code",
   "execution_count": 139,
   "metadata": {},
   "outputs": [],
   "source": [
    "SNRp = filter.matched_filter(template_Fseries, signal_Tseries,\n",
    "                             psd=p_s_d,\n",
    "                             low_frequency_cutoff=flow)"
   ]
  },
  {
   "cell_type": "code",
   "execution_count": 140,
   "metadata": {},
   "outputs": [
    {
     "data": {
      "text/plain": [
       "[<matplotlib.lines.Line2D at 0x7fe9479033d0>]"
      ]
     },
     "execution_count": 140,
     "metadata": {},
     "output_type": "execute_result"
    },
    {
     "data": {
      "image/png": "[encoded data removed]",
      "text/plain": [
       "<matplotlib.figure.Figure at 0x7fe92e1f5810>"
      ]
     },
     "metadata": {},
     "output_type": "display_data"
    }
   ],
   "source": [
    "plot(abs(SNRp))"
   ]
  },
  {
   "cell_type": "code",
   "execution_count": null,
   "metadata": {},
   "outputs": [],
   "source": []
  },
  {
   "cell_type": "code",
   "execution_count": 56,
   "metadata": {},
   "outputs": [
    {
     "ename": "ValueError",
     "evalue": "For C2C FFT, len(outvec) must be nbatch*size",
     "output_type": "error",
     "traceback": [
      "\u001b[0;31m---------------------------------------------------------------------------\u001b[0m",
      "\u001b[0;31mValueError\u001b[0m                                Traceback (most recent call last)",
      "\u001b[0;32m<ipython-input-56-61d70c373eff>\u001b[0m in \u001b[0;36m<module>\u001b[0;34m()\u001b[0m\n\u001b[1;32m      1\u001b[0m Signal_ON = Matched_Filter(template_Fseries, template_Fseries,\n\u001b[1;32m      2\u001b[0m                             \u001b[0msignal_Tseries\u001b[0m\u001b[0;34m,\u001b[0m \u001b[0msignal_Tseries\u001b[0m\u001b[0;34m,\u001b[0m\u001b[0;34m\u001b[0m\u001b[0m\n\u001b[0;32m----> 3\u001b[0;31m                             flen, delta_f, flow)\n\u001b[0m",
      "\u001b[0;32m<ipython-input-21-7e12e9df4246>\u001b[0m in \u001b[0;36mMatched_Filter\u001b[0;34m(fp, fc, data_p, data_c, flen, delta_f, flow)\u001b[0m\n\u001b[1;32m    175\u001b[0m         \u001b[0mp_s_d\u001b[0m \u001b[0;34m=\u001b[0m \u001b[0mpsd\u001b[0m\u001b[0;34m.\u001b[0m\u001b[0maLIGOZeroDetHighPower\u001b[0m\u001b[0;34m(\u001b[0m\u001b[0mflen\u001b[0m\u001b[0;34m,\u001b[0m \u001b[0mdelta_f\u001b[0m\u001b[0;34m,\u001b[0m \u001b[0mflow\u001b[0m\u001b[0;34m)\u001b[0m\u001b[0;34m\u001b[0m\u001b[0m\n\u001b[1;32m    176\u001b[0m \tSNRp = filter.matched_filter(fp, data_p, psd=p_s_d, \n\u001b[0;32m--> 177\u001b[0;31m                                       low_frequency_cutoff=flow)\n\u001b[0m\u001b[1;32m    178\u001b[0m \tSNRc = filter.matched_filter(fc, data_c, psd=p_s_d, \n\u001b[1;32m    179\u001b[0m                                       low_frequency_cutoff=flow)\n",
      "\u001b[0;32m/home/daniel.vieira/.local/lib/python2.7/site-packages/pycbc/filter/matchedfilter.pyc\u001b[0m in \u001b[0;36mmatched_filter\u001b[0;34m(template, data, psd, low_frequency_cutoff, high_frequency_cutoff, sigmasq)\u001b[0m\n\u001b[1;32m   1307\u001b[0m     snr, _, norm = matched_filter_core(template, data, psd=psd,\n\u001b[1;32m   1308\u001b[0m             \u001b[0mlow_frequency_cutoff\u001b[0m\u001b[0;34m=\u001b[0m\u001b[0mlow_frequency_cutoff\u001b[0m\u001b[0;34m,\u001b[0m\u001b[0;34m\u001b[0m\u001b[0m\n\u001b[0;32m-> 1309\u001b[0;31m             high_frequency_cutoff=high_frequency_cutoff, h_norm=sigmasq)\n\u001b[0m\u001b[1;32m   1310\u001b[0m     \u001b[0;32mreturn\u001b[0m \u001b[0msnr\u001b[0m \u001b[0;34m*\u001b[0m \u001b[0mnorm\u001b[0m\u001b[0;34m\u001b[0m\u001b[0m\n\u001b[1;32m   1311\u001b[0m \u001b[0;34m\u001b[0m\u001b[0m\n",
      "\u001b[0;32m/home/daniel.vieira/.local/lib/python2.7/site-packages/pycbc/filter/matchedfilter.pyc\u001b[0m in \u001b[0;36mmatched_filter_core\u001b[0;34m(template, data, psd, low_frequency_cutoff, high_frequency_cutoff, h_norm, out, corr_out)\u001b[0m\n\u001b[1;32m   1204\u001b[0m     \"\"\"\n\u001b[1;32m   1205\u001b[0m     \u001b[0mhtilde\u001b[0m \u001b[0;34m=\u001b[0m \u001b[0mmake_frequency_series\u001b[0m\u001b[0;34m(\u001b[0m\u001b[0mtemplate\u001b[0m\u001b[0;34m)\u001b[0m\u001b[0;34m\u001b[0m\u001b[0m\n\u001b[0;32m-> 1206\u001b[0;31m     \u001b[0mstilde\u001b[0m \u001b[0;34m=\u001b[0m \u001b[0mmake_frequency_series\u001b[0m\u001b[0;34m(\u001b[0m\u001b[0mdata\u001b[0m\u001b[0;34m)\u001b[0m\u001b[0;34m\u001b[0m\u001b[0m\n\u001b[0m\u001b[1;32m   1207\u001b[0m \u001b[0;34m\u001b[0m\u001b[0m\n\u001b[1;32m   1208\u001b[0m     \u001b[0;32mif\u001b[0m \u001b[0mlen\u001b[0m\u001b[0;34m(\u001b[0m\u001b[0mhtilde\u001b[0m\u001b[0;34m)\u001b[0m \u001b[0;34m!=\u001b[0m \u001b[0mlen\u001b[0m\u001b[0;34m(\u001b[0m\u001b[0mstilde\u001b[0m\u001b[0;34m)\u001b[0m\u001b[0;34m:\u001b[0m\u001b[0;34m\u001b[0m\u001b[0m\n",
      "\u001b[0;32m/home/daniel.vieira/.local/lib/python2.7/site-packages/pycbc/filter/matchedfilter.pyc\u001b[0m in \u001b[0;36mmake_frequency_series\u001b[0;34m(vec)\u001b[0m\n\u001b[1;32m   1002\u001b[0m         vectilde =  FrequencySeries(zeros(n, dtype=complex_same_precision_as(vec)),\n\u001b[1;32m   1003\u001b[0m                                     delta_f=delta_f, copy=False)\n\u001b[0;32m-> 1004\u001b[0;31m         \u001b[0mfft\u001b[0m\u001b[0;34m(\u001b[0m\u001b[0mvec\u001b[0m\u001b[0;34m,\u001b[0m \u001b[0mvectilde\u001b[0m\u001b[0;34m)\u001b[0m\u001b[0;34m\u001b[0m\u001b[0m\n\u001b[0m\u001b[1;32m   1005\u001b[0m         \u001b[0;32mreturn\u001b[0m \u001b[0mvectilde\u001b[0m\u001b[0;34m\u001b[0m\u001b[0m\n\u001b[1;32m   1006\u001b[0m     \u001b[0;32melse\u001b[0m\u001b[0;34m:\u001b[0m\u001b[0;34m\u001b[0m\u001b[0m\n",
      "\u001b[0;32m/home/daniel.vieira/.local/lib/python2.7/site-packages/pycbc/fft/func_api.pyc\u001b[0m in \u001b[0;36mfft\u001b[0;34m(invec, outvec)\u001b[0m\n\u001b[1;32m     46\u001b[0m     \"\"\"\n\u001b[1;32m     47\u001b[0m     \u001b[0mprec\u001b[0m\u001b[0;34m,\u001b[0m \u001b[0mitype\u001b[0m\u001b[0;34m,\u001b[0m \u001b[0motype\u001b[0m \u001b[0;34m=\u001b[0m \u001b[0m_check_fft_args\u001b[0m\u001b[0;34m(\u001b[0m\u001b[0minvec\u001b[0m\u001b[0;34m,\u001b[0m \u001b[0moutvec\u001b[0m\u001b[0;34m)\u001b[0m\u001b[0;34m\u001b[0m\u001b[0m\n\u001b[0;32m---> 48\u001b[0;31m     \u001b[0m_check_fwd_args\u001b[0m\u001b[0;34m(\u001b[0m\u001b[0minvec\u001b[0m\u001b[0;34m,\u001b[0m \u001b[0mitype\u001b[0m\u001b[0;34m,\u001b[0m \u001b[0moutvec\u001b[0m\u001b[0;34m,\u001b[0m \u001b[0motype\u001b[0m\u001b[0;34m,\u001b[0m \u001b[0;36m1\u001b[0m\u001b[0;34m,\u001b[0m \u001b[0mNone\u001b[0m\u001b[0;34m)\u001b[0m\u001b[0;34m\u001b[0m\u001b[0m\n\u001b[0m\u001b[1;32m     49\u001b[0m \u001b[0;34m\u001b[0m\u001b[0m\n\u001b[1;32m     50\u001b[0m     \u001b[0;31m# The following line is where all the work is done:\u001b[0m\u001b[0;34m\u001b[0m\u001b[0;34m\u001b[0m\u001b[0m\n",
      "\u001b[0;32m/home/daniel.vieira/.local/lib/python2.7/site-packages/pycbc/fft/core.pyc\u001b[0m in \u001b[0;36m_check_fwd_args\u001b[0;34m(invec, itype, outvec, otype, nbatch, size)\u001b[0m\n\u001b[1;32m    113\u001b[0m             \u001b[0;32mraise\u001b[0m \u001b[0mValueError\u001b[0m\u001b[0;34m(\u001b[0m\u001b[0;34m\"For C2C FFT, len(invec) must be nbatch*size\"\u001b[0m\u001b[0;34m)\u001b[0m\u001b[0;34m\u001b[0m\u001b[0m\n\u001b[1;32m    114\u001b[0m         \u001b[0;32mif\u001b[0m \u001b[0;34m(\u001b[0m\u001b[0molen\u001b[0m\u001b[0;34m/\u001b[0m\u001b[0mnbatch\u001b[0m\u001b[0;34m)\u001b[0m \u001b[0;34m!=\u001b[0m \u001b[0msize\u001b[0m\u001b[0;34m:\u001b[0m\u001b[0;34m\u001b[0m\u001b[0m\n\u001b[0;32m--> 115\u001b[0;31m             \u001b[0;32mraise\u001b[0m \u001b[0mValueError\u001b[0m\u001b[0;34m(\u001b[0m\u001b[0;34m\"For C2C FFT, len(outvec) must be nbatch*size\"\u001b[0m\u001b[0;34m)\u001b[0m\u001b[0;34m\u001b[0m\u001b[0m\n\u001b[0m\u001b[1;32m    116\u001b[0m     \u001b[0;32melif\u001b[0m \u001b[0mitype\u001b[0m \u001b[0;34m==\u001b[0m \u001b[0;34m'real'\u001b[0m \u001b[0;32mand\u001b[0m \u001b[0motype\u001b[0m \u001b[0;34m==\u001b[0m \u001b[0;34m'complex'\u001b[0m\u001b[0;34m:\u001b[0m\u001b[0;34m\u001b[0m\u001b[0m\n\u001b[1;32m    117\u001b[0m         \u001b[0;32mif\u001b[0m \u001b[0;34m(\u001b[0m\u001b[0molen\u001b[0m\u001b[0;34m/\u001b[0m\u001b[0mnbatch\u001b[0m\u001b[0;34m)\u001b[0m \u001b[0;34m!=\u001b[0m \u001b[0mint\u001b[0m\u001b[0;34m(\u001b[0m\u001b[0msize\u001b[0m\u001b[0;34m/\u001b[0m\u001b[0;36m2\u001b[0m \u001b[0;34m+\u001b[0m \u001b[0;36m1\u001b[0m\u001b[0;34m)\u001b[0m\u001b[0;34m:\u001b[0m\u001b[0;34m\u001b[0m\u001b[0m\n",
      "\u001b[0;31mValueError\u001b[0m: For C2C FFT, len(outvec) must be nbatch*size"
     ]
    }
   ],
   "source": [
    "Signal_ON = Matched_Filter(template_Fseries, template_Fseries,\n",
    "                            signal_Tseries, signal_Tseries,\n",
    "                            flen, delta_f, flow)"
   ]
  },
  {
   "cell_type": "code",
   "execution_count": null,
   "metadata": {},
   "outputs": [],
   "source": []
  },
  {
   "cell_type": "code",
   "execution_count": null,
   "metadata": {},
   "outputs": [],
   "source": []
  },
  {
   "cell_type": "code",
   "execution_count": null,
   "metadata": {},
   "outputs": [],
   "source": [
    "flen = len(fp)\n",
    "Signal_OFF = Matched_Filter(fp,fc,noise_p,noise_c,flen,delta_f,flow)\n",
    "Signal_ON = Matched_Filter(fp,fc,data_p,data_c,flen,delta_f,flow)\n"
   ]
  },
  {
   "cell_type": "code",
   "execution_count": null,
   "metadata": {},
   "outputs": [],
   "source": []
  },
  {
   "cell_type": "code",
   "execution_count": null,
   "metadata": {},
   "outputs": [],
   "source": []
  },
  {
   "cell_type": "code",
   "execution_count": null,
   "metadata": {},
   "outputs": [],
   "source": [
    "\n",
    "\n",
    "#Plus_Signal_in_Noise = noise + tp_long\n",
    "#Cross_Signal_in_Noise = noise + tc_long\n",
    "\n",
    "fp, fc = FFT_to_FD(tp,tc)\n",
    "noise_p, noise_c = FFT_to_FD(noise,noise)\n",
    "fp, fc = Array_Match(fp,fc,noise_p)\n",
    "data_p = noise_p + fp\n",
    "data_c = noise_c + fc\n",
    "#data_p, data_c = FFT_to_FD(Plus_Signal_in_Noise, Cross_Signal_in_Noise)\n",
    "\n",
    "fp = FrequencySeries(fp,delta_f)\n",
    "fc = FrequencySeries(fc,delta_f)\n",
    "noise_p = FrequencySeries(noise_p,delta_f)\n",
    "noise_c = FrequencySeries(noise_c,delta_f)\n",
    "data_p = FrequencySeries(data_p,delta_f)\n",
    "data_c = FrequencySeries(data_c,delta_f)\n",
    "\n",
    "flen = len(fp)\n",
    "Signal_OFF = Matched_Filter(fp,fc,noise_p,noise_c,flen,delta_f,flow)\n",
    "Signal_ON = Matched_Filter(fp,fc,data_p,data_c,flen,delta_f,flow)\n",
    "\n",
    "#Signal_OFF_p = abs(np.array(Signal_OFF))[0]\n",
    "#Signal_OFF_c = abs(np.array(Signal_OFF))[1]\n",
    "#Signal_ON_p = abs(np.array(Signal_ON))[0]\n",
    "#Signal_ON_c = abs(np.array(Signal_ON))[1]\n",
    "#---------------------------------------------------------------------------------------------------------\n",
    "\n",
    "#t_values = np.linspace(0,2048,8388609,endpoint='True')\n",
    "#pylab.plot(t_values,Signal_OFF)\n",
    "#pylab.plot(t_values,Signal_ON)\n"
   ]
  }
 ],
 "metadata": {
  "kernelspec": {
   "display_name": "Python 2.7.5 [Long Term - SL7]",
   "language": "python",
   "name": "python2-lta"
  },
  "language_info": {
   "codemirror_mode": {
    "name": "ipython",
    "version": 2
   },
   "file_extension": ".py",
   "mimetype": "text/x-python",
   "name": "python",
   "nbconvert_exporter": "python",
   "pygments_lexer": "ipython2",
   "version": "2.7.5"
  }
 },
 "nbformat": 4,
 "nbformat_minor": 2
}
