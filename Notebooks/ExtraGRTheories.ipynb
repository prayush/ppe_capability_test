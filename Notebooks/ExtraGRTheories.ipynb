{
 "cells": [
  {
   "cell_type": "code",
   "execution_count": 1,
   "metadata": {
    "collapsed": true
   },
   "outputs": [],
   "source": [
    "import numpy as np\n",
    "from math import e\n",
    "from pycbc import types, fft, waveform\n",
    "\n",
    "m1 = 5.0\n",
    "m2 = 5.0\n",
    "m = m1+m2\n",
    "eta = m1*m2/(m**2.0)\n",
    "chirp_mass = m*(eta**(3.0/5.0))\n",
    "\n",
    "sp, sc = waveform.get_fd_waveform(approximant='TaylorF2', mass1=5, mass2=5,\n",
    "                                  delta_f=1.0/4, f_lower=40)\n",
    "\n",
    "chi1 = 0.5\n",
    "chi2 = 0.3\n",
    "\n",
    "#Scalar-Tensor\n",
    "phidot = 1.0\n",
    "s1ST = (1.0+np.sqrt(1.0-(chi1**2.0)))/2.0\n",
    "s2ST = (1.0+np.sqrt(1.0-(chi2**2.0)))/2.0\n",
    "beta_ST = -(5.0/1792.0) * phidot**2.0 * eta**(2.0/5.0) * (m1*s1ST - m2*s2ST)**2.0\n",
    "b_ST = -7.0\n",
    "\n",
    "vf_ST = np.zeros((len(sp.sample_frequencies)))\n",
    "ppE_factor_ST = np.zeros((len(sp.sample_frequencies)),dtype=np.complex_)\n",
    "h_tilde_ST = np.zeros((len(sp.sample_frequencies)),dtype=np.complex_)\n",
    "\n",
    "for i in range(1,len(sp.sample_frequencies)):\n",
    "\tvf_ST[i] = (np.pi*m*sp.sample_frequencies[i])**(1.0/3.0)\n",
    "\tppE_factor_ST[i] = e**(beta_ST * vf_ST[i]**b_ST * 1j)\n",
    "\th_tilde_ST[i] = sp[i]*ppE_factor_ST[i]\n",
    "\n",
    "#Gauss-Bonnet\n",
    "alpha = 1.0\n",
    "coupling_GB = 16.0*np.pi*alpha**2.0 / (m**4.0)\n",
    "\n",
    "BH1_scalar_charge_GB = 4.0*alpha*(np.sqrt(1.0-chi1**2.0)-1.0+chi1**2.0) / (m1**2.0 * chi1**2.0)\n",
    "BH2_scalar_charge_GB = 4.0*alpha*(np.sqrt(1.0-chi2**2.0)-1.0+chi2**2.0) / (m2**2.0 * chi2**2.0)\n",
    "\n",
    "s1GB = BH1_scalar_charge_GB*m1**2.0 / (2.0*alpha)\n",
    "s2GB = BH2_scalar_charge_GB*m2**2.0 / (2.0*alpha)\n",
    "beta_GB = -(5.0/7168.0)*coupling_GB*(m1**2.0 * s2GB - m2**2.0 * s1GB)**2.0 / (m**4.0 * eta**(18.0/5.0))\n",
    "b_GB = -7.0\n",
    "\n",
    "vf_GB = np.zeros((len(sp.sample_frequencies)))\n",
    "ppE_factor_GB = np.zeros((len(sp.sample_frequencies)),dtype=np.complex_)\n",
    "h_tilde_GB = np.zeros((len(sp.sample_frequencies)),dtype=np.complex_)\n",
    "\n",
    "for i in range(1,len(sp.sample_frequencies)):\n",
    "        vf_GB[i] = (np.pi*m*sp.sample_frequencies[i])**(1.0/3.0)\n",
    "        ppE_factor_GB[i] = e**(beta_GB * vf_GB[i]**b_GB * 1j)\n",
    "        h_tilde_GB[i] = sp[i]*ppE_factor_GB[i]\n",
    "\n"
   ]
  },
  {
   "cell_type": "code",
   "execution_count": null,
   "metadata": {
    "collapsed": true
   },
   "outputs": [],
   "source": []
  }
 ],
 "metadata": {
  "kernelspec": {
   "display_name": "Python 3",
   "language": "python",
   "name": "python3"
  },
  "language_info": {
   "codemirror_mode": {
    "name": "ipython",
    "version": 3
   },
   "file_extension": ".py",
   "mimetype": "text/x-python",
   "name": "python",
   "nbconvert_exporter": "python",
   "pygments_lexer": "ipython3",
   "version": "3.6.3"
  }
 },
 "nbformat": 4,
 "nbformat_minor": 2
}
